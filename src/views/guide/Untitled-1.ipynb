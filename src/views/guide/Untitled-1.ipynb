{
 "cells": [
  {
   "cell_type": "code",
   "execution_count": 2,
   "metadata": {},
   "outputs": [
    {
     "name": "stdout",
     "output_type": "stream",
     "text": [
      "2.5705818366147395\n"
     ]
    },
    {
     "data": {
      "text/plain": [
       "(3.037936837109595, 6.522063162890405)"
      ]
     },
     "execution_count": 2,
     "metadata": {},
     "output_type": "execute_result"
    }
   ],
   "source": [
    "from scipy.stats import t\n",
    "import numpy as np\n",
    "\n",
    "\n",
    "sample_mean = 4.78\n",
    "sample_std = 1.66\n",
    "n = 6\n",
    "alpha = 0.05\n",
    "\n",
    "\n",
    "t_critical = t.ppf(1 - alpha/2, n-1)\n",
    "\n",
    "print(t_critical)\n",
    "margin_error = t_critical * (sample_std / np.sqrt(n))\n",
    "confidence_interval = (sample_mean - margin_error, sample_mean + margin_error)\n",
    "\n",
    "confidence_interval"
   ]
  },
  {
   "cell_type": "code",
   "execution_count": 3,
   "metadata": {},
   "outputs": [
    {
     "data": {
      "text/plain": [
       "(0.9134761483430726,\n",
       " 0.3962142424872501,\n",
       " 4.0842857142857145,\n",
       " 0.24412135935890178)"
      ]
     },
     "execution_count": 3,
     "metadata": {},
     "output_type": "execute_result"
    }
   ],
   "source": [
    "from scipy.stats import ttest_1samp\n",
    "\n",
    "model_outputs = np.array([3.70, 4.21, 4.35, 4.13, 3.83, 4.32, 4.05])\n",
    "\n",
    "observed_mean = 4\n",
    "\n",
    "t_stat, p_value = ttest_1samp(model_outputs, observed_mean)\n",
    "\n",
    "\n",
    "sample_mean = np.mean(model_outputs)\n",
    "sample_std = np.std(model_outputs, ddof=1)\n",
    "\n",
    "t_stat, p_value, sample_mean, sample_std"
   ]
  },
  {
   "cell_type": "code",
   "execution_count": 5,
   "metadata": {},
   "outputs": [
    {
     "data": {
      "text/plain": [
       "7.016327103275078"
      ]
     },
     "execution_count": 5,
     "metadata": {},
     "output_type": "execute_result"
    }
   ],
   "source": [
    "from statsmodels.stats.power import TTestPower\n",
    "\n",
    "power_analysis = TTestPower()\n",
    "\n",
    "\n",
    "effect_size = 0.5 / sample_std  \n",
    "alpha = 0.01  \n",
    "power = 0.90  \n",
    "\n",
    "\n",
    "required_sample_size = power_analysis.solve_power(effect_size=effect_size, power=power, alpha=alpha, alternative='two-sided')\n",
    "\n",
    "required_sample_size"
   ]
  },
  {
   "cell_type": "code",
   "execution_count": 6,
   "metadata": {},
   "outputs": [
    {
     "data": {
      "text/plain": [
       "(8.911502470095705, 0.24412135935890178)"
      ]
     },
     "execution_count": 6,
     "metadata": {},
     "output_type": "execute_result"
    }
   ],
   "source": [
    "from scipy.stats import ttest_1samp\n",
    "\n",
    "# 给定数据\n",
    "observed_days = [3.70, 4.21, 4.35, 4.13, 3.83, 4.32, 4.05]\n",
    "actual_mean = 4.0  # 实际观测平均工作日数\n",
    "alpha = 0.01  # 显著性水平\n",
    "\n",
    "# 执行单样本t检验\n",
    "t_statistic, p_value = ttest_1samp(observed_days, actual_mean)\n",
    "\n",
    "t_statistic, p_value\n",
    "\n",
    "\n",
    "from statsmodels.stats.power import TTestIndPower\n",
    "import numpy as np\n",
    "\n",
    "# 计算样本标准偏差\n",
    "sample_std = np.std(observed_days, ddof=1)\n",
    "\n",
    "# 效应量Cohen's d计算，效应量为期望检测到的差异除以标准偏差\n",
    "effect_size = 0.5 / sample_std\n",
    "\n",
    "# 初始化功效分析工具\n",
    "power_analysis = TTestIndPower()\n",
    "\n",
    "# 计算所需样本大小\n",
    "# 注意：这里我们将两个独立样本的情况作为参考，因为函数设计为比较两个独立样本\n",
    "# 实际应用中可能需要调整以适应单样本情况或其他特定情况\n",
    "required_sample_size = power_analysis.solve_power(effect_size=effect_size, power=0.90, alpha=alpha, ratio=1.0)\n",
    "\n",
    "required_sample_size, sample_std"
   ]
  }
 ],
 "metadata": {
  "kernelspec": {
   "display_name": "deepdebugger",
   "language": "python",
   "name": "deepdebugger"
  },
  "language_info": {
   "codemirror_mode": {
    "name": "ipython",
    "version": 3
   },
   "file_extension": ".py",
   "mimetype": "text/x-python",
   "name": "python",
   "nbconvert_exporter": "python",
   "pygments_lexer": "ipython3",
   "version": "3.7.15"
  }
 },
 "nbformat": 4,
 "nbformat_minor": 2
}
